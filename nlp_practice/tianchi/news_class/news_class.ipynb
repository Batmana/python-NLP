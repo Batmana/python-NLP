{
 "cells": [
  {
   "cell_type": "code",
   "execution_count": 1,
   "id": "9562b4ad",
   "metadata": {},
   "outputs": [
    {
     "data": {
      "text/plain": [
       "count    200000.000000\n",
       "mean        907.207110\n",
       "std         996.029036\n",
       "min           2.000000\n",
       "25%         374.000000\n",
       "50%         676.000000\n",
       "75%        1131.000000\n",
       "max       57921.000000\n",
       "Name: text_len, dtype: float64"
      ]
     },
     "execution_count": 1,
     "metadata": {},
     "output_type": "execute_result"
    }
   ],
   "source": [
    "# 天池 - 零基础入门NLP - 新闻文本分类\n",
    "# https://tianchi.aliyun.com/competition/entrance/531810/rankingList\n",
    "import pandas as pd\n",
    "\n",
    "test_data = pd.read_csv(\"/Users/kj/Documents/NLP_Datasets/tianchi/news_class/test_a.csv\", sep='\\t')\n",
    "test_data.head()\n",
    "\n",
    "train_data = pd.read_csv(\"/Users/kj/Documents/NLP_Datasets/tianchi/news_class/train_set.csv\", sep='\\t')\n",
    "# 统计词长\n",
    "train_data['text_len'] = train_data['text'].apply(lambda x: len(x.split(' ')))\n",
    "train_data['text_len'].describe()"
   ]
  },
  {
   "cell_type": "code",
   "execution_count": 2,
   "id": "a70dd7b2",
   "metadata": {},
   "outputs": [
    {
     "data": {
      "image/png": "[encoded data removed]",
      "text/plain": [
       "<Figure size 432x288 with 1 Axes>"
      ]
     },
     "metadata": {
      "needs_background": "light"
     },
     "output_type": "display_data"
    }
   ],
   "source": [
    "# 绘制句子长度的直方图\n",
    "import matplotlib\n",
    "import matplotlib.pyplot as plt\n",
    "from matplotlib.font_manager import FontProperties\n",
    "\n",
    "font = FontProperties(fname=\"/Users/kj/Documents/font/RuiZiChaoPaiChiGuangHei-Shan-XianXi(REEJI-FlashItalicGB-Flash-Thin)-2.ttf\", size=15)\n",
    "# 直方图\n",
    "plt.hist(train_data['text_len'], bins=100)\n",
    "plt.xlabel('Length')\n",
    "plt.ylabel('Numbers')\n",
    "plt.title(\"新闻长度直方图\", fontproperties=font)\n",
    "plt.show()"
   ]
  },
  {
   "cell_type": "code",
   "execution_count": 3,
   "id": "9ae2e1c6",
   "metadata": {},
   "outputs": [
    {
     "data": {
      "text/html": [
       "<div>\n",
       "<style scoped>\n",
       "    .dataframe tbody tr th:only-of-type {\n",
       "        vertical-align: middle;\n",
       "    }\n",
       "\n",
       "    .dataframe tbody tr th {\n",
       "        vertical-align: top;\n",
       "    }\n",
       "\n",
       "    .dataframe thead th {\n",
       "        text-align: right;\n",
       "    }\n",
       "</style>\n",
       "<table border=\"1\" class=\"dataframe\">\n",
       "  <thead>\n",
       "    <tr style=\"text-align: right;\">\n",
       "      <th></th>\n",
       "      <th>label</th>\n",
       "      <th>text</th>\n",
       "      <th>text_len</th>\n",
       "    </tr>\n",
       "  </thead>\n",
       "  <tbody>\n",
       "    <tr>\n",
       "      <th>0</th>\n",
       "      <td>2</td>\n",
       "      <td>2967 6758 339 2021 1854 3731 4109 3792 4149 15...</td>\n",
       "      <td>1057</td>\n",
       "    </tr>\n",
       "    <tr>\n",
       "      <th>1</th>\n",
       "      <td>11</td>\n",
       "      <td>4464 486 6352 5619 2465 4802 1452 3137 5778 54...</td>\n",
       "      <td>486</td>\n",
       "    </tr>\n",
       "    <tr>\n",
       "      <th>2</th>\n",
       "      <td>3</td>\n",
       "      <td>7346 4068 5074 3747 5681 6093 1777 2226 7354 6...</td>\n",
       "      <td>764</td>\n",
       "    </tr>\n",
       "    <tr>\n",
       "      <th>3</th>\n",
       "      <td>2</td>\n",
       "      <td>7159 948 4866 2109 5520 2490 211 3956 5520 549...</td>\n",
       "      <td>1570</td>\n",
       "    </tr>\n",
       "    <tr>\n",
       "      <th>4</th>\n",
       "      <td>3</td>\n",
       "      <td>3646 3055 3055 2490 4659 6065 3370 5814 2465 5...</td>\n",
       "      <td>307</td>\n",
       "    </tr>\n",
       "  </tbody>\n",
       "</table>\n",
       "</div>"
      ],
      "text/plain": [
       "   label                                               text  text_len\n",
       "0      2  2967 6758 339 2021 1854 3731 4109 3792 4149 15...      1057\n",
       "1     11  4464 486 6352 5619 2465 4802 1452 3137 5778 54...       486\n",
       "2      3  7346 4068 5074 3747 5681 6093 1777 2226 7354 6...       764\n",
       "3      2  7159 948 4866 2109 5520 2490 211 3956 5520 549...      1570\n",
       "4      3  3646 3055 3055 2490 4659 6065 3370 5814 2465 5...       307"
      ]
     },
     "execution_count": 3,
     "metadata": {},
     "output_type": "execute_result"
    }
   ],
   "source": [
    "train_data.head()"
   ]
  },
  {
   "cell_type": "code",
   "execution_count": 4,
   "id": "72b83f56",
   "metadata": {},
   "outputs": [
    {
     "data": {
      "image/png": "[encoded data removed]",
      "text/plain": [
       "<Figure size 432x288 with 1 Axes>"
      ]
     },
     "metadata": {
      "needs_background": "light"
     },
     "output_type": "display_data"
    }
   ],
   "source": [
    "# 查看类别数据\n",
    "train_data['label'].value_counts().plot(kind='bar')\n",
    "plt.title(\"类别分布\", fontproperties=font)\n",
    "plt.xlabel(\"Category\")\n",
    "plt.ylabel(\"Numbers\")\n",
    "plt.show()"
   ]
  },
  {
   "cell_type": "code",
   "execution_count": 12,
   "id": "0e805ba2",
   "metadata": {},
   "outputs": [
    {
     "name": "stdout",
     "output_type": "stream",
     "text": [
      "CountVectorizer + RidgeClassifier : 0.8229\n"
     ]
    }
   ],
   "source": [
    "# 思路一：TFIDF + 岭回归\n",
    "from sklearn.feature_extraction.text import CountVectorizer\n",
    "from sklearn.model_selection import train_test_split\n",
    "from sklearn.linear_model import RidgeClassifier\n",
    "from sklearn.metrics import f1_score\n",
    "\n",
    "def count_rl():\n",
    "    \"\"\"\n",
    "    词频 + 岭回归分类器\n",
    "    \"\"\"\n",
    "    CountVec = CountVectorizer(max_features=4000)\n",
    "    # 这里的train_text实际上保存了一个词频数量的矩阵\n",
    "    train_text = CountVec.fit_transform(train_data.text)\n",
    "    # print(train_text)\n",
    "    words = CountVec.get_feature_names()\n",
    "    # print(\"个数：{} 单词：{}\".format(len(words), words))\n",
    "    \n",
    "    x_train, x_val, y_train, y_val  = train_test_split(train_text, train_data.label, test_size=0.25, random_state=0)\n",
    "        \n",
    "    clf = RidgeClassifier()\n",
    "    clf.fit(x_train, y_train)\n",
    "    \n",
    "    val_pre = clf.predict(x_val)\n",
    "    score_f1 = f1_score(y_val, val_pre, average='macro')\n",
    "    \n",
    "    print('CountVectorizer + RidgeClassifier : %.4f' % score_f1)\n",
    "    \n",
    "count_rl()\n",
    "    "
   ]
  },
  {
   "cell_type": "code",
   "execution_count": 14,
   "id": "c02b4bd7",
   "metadata": {},
   "outputs": [
    {
     "name": "stdout",
     "output_type": "stream",
     "text": [
      "Tfidf + RidgeClassifier : 0.8832\n"
     ]
    }
   ],
   "source": [
    "# 思路二，采用TFIDF + 岭回归\n",
    "from sklearn.feature_extraction.text import TfidfVectorizer\n",
    "def tfidf_rl():\n",
    "    \"\"\"\n",
    "    TFIDF + 岭回归分类\n",
    "    \"\"\"\n",
    "    tfidfVec = TfidfVectorizer(max_features=4000)\n",
    "    train_tfidf = tfidfVec.fit_transform(train_data.text)\n",
    "    \n",
    "    x_train, x_val, y_train, y_val  = train_test_split(train_tfidf, train_data.label, test_size=0.25, random_state=0)\n",
    "        \n",
    "    clf = RidgeClassifier()\n",
    "    clf.fit(x_train, y_train)\n",
    "    \n",
    "    val_pre = clf.predict(x_val)\n",
    "    score_f1 = f1_score(y_val, val_pre, average='macro')\n",
    "    \n",
    "    print('Tfidf + RidgeClassifier : %.4f' % score_f1)\n",
    "    \n",
    "tfidf_rl()"
   ]
  }
 ],
 "metadata": {
  "kernelspec": {
   "display_name": "Python 3",
   "language": "python",
   "name": "python3"
  },
  "language_info": {
   "codemirror_mode": {
    "name": "ipython",
    "version": 3
   },
   "file_extension": ".py",
   "mimetype": "text/x-python",
   "name": "python",
   "nbconvert_exporter": "python",
   "pygments_lexer": "ipython3",
   "version": "3.8.8"
  }
 },
 "nbformat": 4,
 "nbformat_minor": 5
}
