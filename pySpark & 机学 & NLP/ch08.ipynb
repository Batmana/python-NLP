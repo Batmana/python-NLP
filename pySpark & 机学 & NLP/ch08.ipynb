{
 "cells": [
  {
   "cell_type": "code",
   "execution_count": 1,
   "id": "extensive-headset",
   "metadata": {},
   "outputs": [],
   "source": [
    "# ch08 聚类\n",
    "# 步骤1: 创建SparkSession对象\n",
    "from pyspark.sql import SparkSession\n",
    "spark = SparkSession.builder.appName('K_means').getOrCreate()"
   ]
  },
  {
   "cell_type": "code",
   "execution_count": 2,
   "id": "robust-cigarette",
   "metadata": {},
   "outputs": [],
   "source": [
    "# 读取数据集\n",
    "df = spark.read.csv('iris_dataset.csv', inferSchema=True, header=True)\n",
    "\n"
   ]
  },
  {
   "cell_type": "code",
   "execution_count": 3,
   "id": "standard-camera",
   "metadata": {},
   "outputs": [
    {
     "name": "stdout",
     "output_type": "stream",
     "text": [
      "150 5\n"
     ]
    }
   ],
   "source": [
    "# 探究数据分析\n",
    "print(df.count(), len(df.columns))"
   ]
  },
  {
   "cell_type": "code",
   "execution_count": 4,
   "id": "korean-medication",
   "metadata": {},
   "outputs": [
    {
     "name": "stdout",
     "output_type": "stream",
     "text": [
      "root\n",
      " |-- sepal_length: double (nullable = true)\n",
      " |-- sepal_width: double (nullable = true)\n",
      " |-- petal_length: double (nullable = true)\n",
      " |-- petal_width: double (nullable = true)\n",
      " |-- species: string (nullable = true)\n",
      "\n"
     ]
    }
   ],
   "source": [
    "df.printSchema()"
   ]
  },
  {
   "cell_type": "code",
   "execution_count": 5,
   "id": "billion-tucson",
   "metadata": {},
   "outputs": [
    {
     "name": "stdout",
     "output_type": "stream",
     "text": [
      "+------------+-----------+------------+-----------+----------+\n",
      "|sepal_length|sepal_width|petal_length|petal_width|species   |\n",
      "+------------+-----------+------------+-----------+----------+\n",
      "|7.2         |3.0        |5.8         |1.6        |virginica |\n",
      "|5.1         |3.4        |1.5         |0.2        |setosa    |\n",
      "|4.8         |3.0        |1.4         |0.3        |setosa    |\n",
      "|7.7         |3.0        |6.1         |2.3        |virginica |\n",
      "|6.1         |3.0        |4.9         |1.8        |virginica |\n",
      "|7.2         |3.2        |6.0         |1.8        |virginica |\n",
      "|5.5         |3.5        |1.3         |0.2        |setosa    |\n",
      "|6.4         |2.7        |5.3         |1.9        |virginica |\n",
      "|5.6         |2.5        |3.9         |1.1        |versicolor|\n",
      "|4.9         |2.4        |3.3         |1.0        |versicolor|\n",
      "+------------+-----------+------------+-----------+----------+\n",
      "only showing top 10 rows\n",
      "\n"
     ]
    }
   ],
   "source": [
    "from pyspark.sql.functions import rand\n",
    "df.orderBy(rand()).show(10, False)"
   ]
  },
  {
   "cell_type": "code",
   "execution_count": 7,
   "id": "voluntary-logic",
   "metadata": {},
   "outputs": [],
   "source": [
    "# 步骤4：特征工程\n",
    "from pyspark.ml.linalg import Vector\n",
    "from pyspark.ml.feature import VectorAssembler\n",
    "input_cols = ['sepal_length', 'sepal_width', 'petal_length', 'petal_width']\n",
    "vec_assembler = VectorAssembler(inputCols=input_cols, outputCol='features')\n",
    "final_data = vec_assembler.transform(df)"
   ]
  },
  {
   "cell_type": "code",
   "execution_count": 8,
   "id": "turned-traffic",
   "metadata": {},
   "outputs": [],
   "source": [
    "# 步骤5: 构建K均值聚类模型\n",
    "from pyspark.ml.clustering import KMeans\n",
    "errors=[]\n",
    "# K的范围从2-10，从而使用肘部法则确定具体K的值\n",
    "for k in range(2, 10):\n",
    "    kemans = KMeans(featuresCol='features', k=k)\n",
    "    model = kemans.fit(final_data)\n",
    "    intral_distance = model.computeCost(final_data)\n",
    "    errors.append(intral_distance)"
   ]
  },
  {
   "cell_type": "code",
   "execution_count": 9,
   "id": "vocal-carter",
   "metadata": {},
   "outputs": [
    {
     "name": "stdout",
     "output_type": "stream",
     "text": [
      "[152.36870647734008, 78.94506582597637, 57.47147508745658, 46.53558205128334, 45.96395128205201, 37.4860212121211, 36.35147828282878, 34.79115066845024]\n"
     ]
    }
   ],
   "source": [
    "print(errors)"
   ]
  },
  {
   "cell_type": "code",
   "execution_count": 10,
   "id": "criminal-weight",
   "metadata": {},
   "outputs": [],
   "source": [
    "import pandas as pd\n",
    "import numpy as np\n",
    "import matplotlib as mpl\n",
    "import matplotlib.pyplot as plt"
   ]
  },
  {
   "cell_type": "code",
   "execution_count": 17,
   "id": "incoming-indie",
   "metadata": {},
   "outputs": [
    {
     "name": "stdout",
     "output_type": "stream",
     "text": [
      "Devanagari Sangam MN\n",
      "Lucida Grande\n",
      "American Typewriter\n",
      "Avenir Next Condensed\n",
      "Papyrus\n",
      ".Aqua Kana\n",
      "PT Sans\n",
      "Menlo\n",
      "Charter\n",
      "Kailasa\n",
      "Hiragino Mincho ProN\n",
      ".SF Compact Text\n",
      "Apple SD Gothic Neo\n",
      "Gill Sans\n",
      "Snell Roundhand\n",
      ".SF NS Rounded\n",
      "Mishafi\n",
      "Geeza Pro\n",
      "Heiti TC\n",
      "Hiragino Maru Gothic Pro\n",
      "Baskerville\n",
      "Hiragino Sans\n",
      "Helvetica\n",
      "PingFang HK\n",
      "Hiragino Sans\n",
      "PT Serif\n",
      ".Arabic UI Display\n",
      "Diwan Thuluth\n",
      "Heiti TC\n",
      "Hiragino Sans GB\n",
      "Hiragino Sans\n",
      "Noto Sans Kannada\n",
      "Hiragino Sans\n",
      "Copperplate\n",
      "Arial Unicode MS\n",
      "Cochin\n",
      "Damascus\n",
      "Hiragino Sans\n",
      "Hiragino Sans\n",
      "Avenir Next\n",
      "Arial Unicode MS\n",
      "Noto Sans Myanmar\n",
      "AppleGothic\n",
      "Kohinoor Devanagari\n",
      "Athelas\n",
      ".Helvetica Neue DeskInterface\n",
      "Mukta Mahee\n",
      "Hiragino Sans\n",
      "Superclarendon\n",
      "AppleMyungjo\n",
      "Hoefler Text\n",
      "System Font\n",
      "Hiragino Sans\n",
      "Palatino\n",
      "Hiragino Sans\n",
      "Hiragino Sans\n",
      "Songti SC\n",
      "Seravek\n",
      "Helvetica Neue\n",
      "Thonburi\n",
      "Avenir\n",
      "Noto Serif Myanmar\n",
      "Iowan Old Style\n"
     ]
    }
   ],
   "source": [
    "from matplotlib.font_manager import fontManager\n",
    "import os\n",
    " \n",
    "fonts = [font.name for font in fontManager.ttflist if \n",
    "         os.path.exists(font.fname) and os.stat(font.fname).st_size>1e6] \n",
    " \n",
    "for font in fonts:\n",
    "    print(font)\n"
   ]
  },
  {
   "cell_type": "code",
   "execution_count": 24,
   "id": "acceptable-generic",
   "metadata": {},
   "outputs": [
    {
     "data": {
      "image/png": "[encoded data removed]",
      "text/plain": [
       "<Figure size 432x288 with 1 Axes>"
      ]
     },
     "metadata": {
      "needs_background": "light"
     },
     "output_type": "display_data"
    }
   ],
   "source": [
    "mpl.rcParams['font.family'] =  'Songti SC'\n",
    "mpl.rcParams['font.sans-serif'] = ['Songti SC']\n",
    "mpl.rcParams['font.size'] = 15\n",
    "\n",
    "cluster_number = range(2, 10)\n",
    "plt.xlabel('聚类数量(K)')\n",
    "plt.ylabel('SSE')\n",
    "plt.scatter(cluster_number, errors)\n",
    "plt.show()"
   ]
  },
  {
   "cell_type": "code",
   "execution_count": 27,
   "id": "surrounded-chicago",
   "metadata": {},
   "outputs": [
    {
     "name": "stdout",
     "output_type": "stream",
     "text": [
      "+----------+-----+\n",
      "|prediction|count|\n",
      "+----------+-----+\n",
      "|         1|   50|\n",
      "|         2|   39|\n",
      "|         0|   61|\n",
      "+----------+-----+\n",
      "\n"
     ]
    }
   ],
   "source": [
    "# 肘部位于K=3的位置\n",
    "kmeans = KMeans(featuresCol='features', k=3)\n",
    "model = kmeans.fit(final_data)\n",
    "model.transform(final_data).groupBy('prediction').count().show()"
   ]
  },
  {
   "cell_type": "code",
   "execution_count": 29,
   "id": "forbidden-young",
   "metadata": {},
   "outputs": [
    {
     "name": "stdout",
     "output_type": "stream",
     "text": [
      "+----------+----------+-----+\n",
      "|   species|prediction|count|\n",
      "+----------+----------+-----+\n",
      "| virginica|         2|   36|\n",
      "| virginica|         0|   14|\n",
      "|versicolor|         0|   47|\n",
      "|    setosa|         1|   50|\n",
      "|versicolor|         2|    3|\n",
      "+----------+----------+-----+\n",
      "\n"
     ]
    }
   ],
   "source": [
    "# 可以使用transform函数为原始数据集指定数量，并且使用groupBY函数验证分组\n",
    "predictions = model.transform(final_data)\n",
    "predictions.groupBy('species', 'prediction').count().show()"
   ]
  },
  {
   "cell_type": "code",
   "execution_count": 30,
   "id": "lucky-obligation",
   "metadata": {},
   "outputs": [
    {
     "data": {
      "text/html": [
       "<div>\n",
       "<style scoped>\n",
       "    .dataframe tbody tr th:only-of-type {\n",
       "        vertical-align: middle;\n",
       "    }\n",
       "\n",
       "    .dataframe tbody tr th {\n",
       "        vertical-align: top;\n",
       "    }\n",
       "\n",
       "    .dataframe thead th {\n",
       "        text-align: right;\n",
       "    }\n",
       "</style>\n",
       "<table border=\"1\" class=\"dataframe\">\n",
       "  <thead>\n",
       "    <tr style=\"text-align: right;\">\n",
       "      <th></th>\n",
       "      <th>sepal_length</th>\n",
       "      <th>sepal_width</th>\n",
       "      <th>petal_length</th>\n",
       "      <th>petal_width</th>\n",
       "      <th>species</th>\n",
       "      <th>features</th>\n",
       "      <th>prediction</th>\n",
       "    </tr>\n",
       "  </thead>\n",
       "  <tbody>\n",
       "    <tr>\n",
       "      <th>0</th>\n",
       "      <td>5.1</td>\n",
       "      <td>3.5</td>\n",
       "      <td>1.4</td>\n",
       "      <td>0.2</td>\n",
       "      <td>setosa</td>\n",
       "      <td>[5.1, 3.5, 1.4, 0.2]</td>\n",
       "      <td>1</td>\n",
       "    </tr>\n",
       "    <tr>\n",
       "      <th>1</th>\n",
       "      <td>4.9</td>\n",
       "      <td>3.0</td>\n",
       "      <td>1.4</td>\n",
       "      <td>0.2</td>\n",
       "      <td>setosa</td>\n",
       "      <td>[4.9, 3.0, 1.4, 0.2]</td>\n",
       "      <td>1</td>\n",
       "    </tr>\n",
       "    <tr>\n",
       "      <th>2</th>\n",
       "      <td>4.7</td>\n",
       "      <td>3.2</td>\n",
       "      <td>1.3</td>\n",
       "      <td>0.2</td>\n",
       "      <td>setosa</td>\n",
       "      <td>[4.7, 3.2, 1.3, 0.2]</td>\n",
       "      <td>1</td>\n",
       "    </tr>\n",
       "    <tr>\n",
       "      <th>3</th>\n",
       "      <td>4.6</td>\n",
       "      <td>3.1</td>\n",
       "      <td>1.5</td>\n",
       "      <td>0.2</td>\n",
       "      <td>setosa</td>\n",
       "      <td>[4.6, 3.1, 1.5, 0.2]</td>\n",
       "      <td>1</td>\n",
       "    </tr>\n",
       "    <tr>\n",
       "      <th>4</th>\n",
       "      <td>5.0</td>\n",
       "      <td>3.6</td>\n",
       "      <td>1.4</td>\n",
       "      <td>0.2</td>\n",
       "      <td>setosa</td>\n",
       "      <td>[5.0, 3.6, 1.4, 0.2]</td>\n",
       "      <td>1</td>\n",
       "    </tr>\n",
       "  </tbody>\n",
       "</table>\n",
       "</div>"
      ],
      "text/plain": [
       "   sepal_length  sepal_width  petal_length  petal_width species  \\\n",
       "0           5.1          3.5           1.4          0.2  setosa   \n",
       "1           4.9          3.0           1.4          0.2  setosa   \n",
       "2           4.7          3.2           1.3          0.2  setosa   \n",
       "3           4.6          3.1           1.5          0.2  setosa   \n",
       "4           5.0          3.6           1.4          0.2  setosa   \n",
       "\n",
       "               features  prediction  \n",
       "0  [5.1, 3.5, 1.4, 0.2]           1  \n",
       "1  [4.9, 3.0, 1.4, 0.2]           1  \n",
       "2  [4.7, 3.2, 1.3, 0.2]           1  \n",
       "3  [4.6, 3.1, 1.5, 0.2]           1  \n",
       "4  [5.0, 3.6, 1.4, 0.2]           1  "
      ]
     },
     "execution_count": 30,
     "metadata": {},
     "output_type": "execute_result"
    }
   ],
   "source": [
    "# 步骤6: 聚类可视化\n",
    "pandas_df = predictions.toPandas()\n",
    "pandas_df.head()"
   ]
  },
  {
   "cell_type": "code",
   "execution_count": null,
   "id": "chronic-dating",
   "metadata": {},
   "outputs": [],
   "source": [
    "# 引入所需的库绘制可视化图，并观察聚类\n",
    "from mpl_toolkits.mplot3d import Axes3D\n",
    "cluster_vis = plt.figure(figsize=(12, 10).gca(projection='3d'))\n",
    "cluster_vis.scatter(pandas_df.sepal_length, \n",
    "                   pandas_df.sepal_width)"
   ]
  }
 ],
 "metadata": {
  "kernelspec": {
   "display_name": "Python 3",
   "language": "python",
   "name": "python3"
  },
  "language_info": {
   "codemirror_mode": {
    "name": "ipython",
    "version": 3
   },
   "file_extension": ".py",
   "mimetype": "text/x-python",
   "name": "python",
   "nbconvert_exporter": "python",
   "pygments_lexer": "ipython3",
   "version": "3.6.12"
  }
 },
 "nbformat": 4,
 "nbformat_minor": 5
}
