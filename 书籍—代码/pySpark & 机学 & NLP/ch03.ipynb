{
 "cells": [
  {
   "cell_type": "code",
   "execution_count": 1,
   "metadata": {},
   "outputs": [],
   "source": [
    "import pyspark"
   ]
  },
  {
   "cell_type": "code",
   "execution_count": 2,
   "metadata": {},
   "outputs": [
    {
     "data": {
      "text/plain": [
       "['ratings', 'age', 'experience', 'family', 'mobile']"
      ]
     },
     "execution_count": 2,
     "metadata": {},
     "output_type": "execute_result"
    }
   ],
   "source": [
    "from pyspark.sql import SparkSession\n",
    "spark = SparkSession.builder.appName(\"data_processing\").getOrCreate()\n",
    "df = spark.read.csv(\"sample_data.csv\", inferSchema=True, header=True)\n",
    "df.columns"
   ]
  },
  {
   "cell_type": "code",
   "execution_count": 3,
   "metadata": {},
   "outputs": [
    {
     "data": {
      "text/plain": [
       "5"
      ]
     },
     "execution_count": 3,
     "metadata": {},
     "output_type": "execute_result"
    }
   ],
   "source": [
    "len(df.columns)"
   ]
  },
  {
   "cell_type": "code",
   "execution_count": 4,
   "metadata": {},
   "outputs": [
    {
     "data": {
      "text/plain": [
       "33"
      ]
     },
     "execution_count": 4,
     "metadata": {},
     "output_type": "execute_result"
    }
   ],
   "source": [
    "df.count()"
   ]
  },
  {
   "cell_type": "code",
   "execution_count": 5,
   "metadata": {},
   "outputs": [
    {
     "name": "stdout",
     "output_type": "stream",
     "text": [
      "33 5\n"
     ]
    }
   ],
   "source": [
    "print((df.count()), len(df.columns))"
   ]
  },
  {
   "cell_type": "code",
   "execution_count": 6,
   "metadata": {},
   "outputs": [
    {
     "name": "stdout",
     "output_type": "stream",
     "text": [
      "root\n",
      " |-- ratings: integer (nullable = true)\n",
      " |-- age: integer (nullable = true)\n",
      " |-- experience: double (nullable = true)\n",
      " |-- family: integer (nullable = true)\n",
      " |-- mobile: string (nullable = true)\n",
      "\n"
     ]
    }
   ],
   "source": [
    "df.printSchema()"
   ]
  },
  {
   "cell_type": "code",
   "execution_count": 7,
   "metadata": {},
   "outputs": [
    {
     "name": "stdout",
     "output_type": "stream",
     "text": [
      "+-------+---+----------+------+-------+\n",
      "|ratings|age|experience|family| mobile|\n",
      "+-------+---+----------+------+-------+\n",
      "|      3| 32|       9.0|     3|   Vivo|\n",
      "|      3| 27|      13.0|     3|  Apple|\n",
      "|      4| 22|       2.5|     0|Samsung|\n",
      "|      4| 37|      16.5|     4|  Apple|\n",
      "|      5| 27|       9.0|     1|     MI|\n",
      "+-------+---+----------+------+-------+\n",
      "only showing top 5 rows\n",
      "\n"
     ]
    }
   ],
   "source": [
    "df.show(5)"
   ]
  },
  {
   "cell_type": "code",
   "execution_count": 8,
   "metadata": {},
   "outputs": [
    {
     "name": "stdout",
     "output_type": "stream",
     "text": [
      "+---+-------+\n",
      "|age| mobile|\n",
      "+---+-------+\n",
      "| 32|   Vivo|\n",
      "| 27|  Apple|\n",
      "| 22|Samsung|\n",
      "| 37|  Apple|\n",
      "| 27|     MI|\n",
      "+---+-------+\n",
      "only showing top 5 rows\n",
      "\n"
     ]
    }
   ],
   "source": [
    "df.select(\"age\", \"mobile\").show(5)"
   ]
  },
  {
   "cell_type": "code",
   "execution_count": 9,
   "metadata": {},
   "outputs": [
    {
     "name": "stdout",
     "output_type": "stream",
     "text": [
      "+-------+------------------+------------------+------------------+------------------+------+\n",
      "|summary|           ratings|               age|        experience|            family|mobile|\n",
      "+-------+------------------+------------------+------------------+------------------+------+\n",
      "|  count|                33|                33|                33|                33|    33|\n",
      "|   mean|3.5757575757575757|30.484848484848484|10.303030303030303|1.8181818181818181|  null|\n",
      "| stddev|1.1188806636071336|  6.18527087180309| 6.770731351213326|1.8448330794164254|  null|\n",
      "|    min|                 1|                22|               2.5|                 0| Apple|\n",
      "|    max|                 5|                42|              23.0|                 5|  Vivo|\n",
      "+-------+------------------+------------------+------------------+------------------+------+\n",
      "\n"
     ]
    }
   ],
   "source": [
    "df.describe().show()"
   ]
  },
  {
   "cell_type": "code",
   "execution_count": 10,
   "metadata": {},
   "outputs": [
    {
     "name": "stdout",
     "output_type": "stream",
     "text": [
      "+-------+---+----------+------+-------+----------------+\n",
      "|ratings|age|experience|family|mobile |age_after_10_yrs|\n",
      "+-------+---+----------+------+-------+----------------+\n",
      "|3      |32 |9.0       |3     |Vivo   |42              |\n",
      "|3      |27 |13.0      |3     |Apple  |37              |\n",
      "|4      |22 |2.5       |0     |Samsung|32              |\n",
      "|4      |37 |16.5      |4     |Apple  |47              |\n",
      "|5      |27 |9.0       |1     |MI     |37              |\n",
      "|4      |27 |9.0       |0     |Oppo   |37              |\n",
      "|5      |37 |23.0      |5     |Vivo   |47              |\n",
      "|5      |37 |23.0      |5     |Samsung|47              |\n",
      "|3      |22 |2.5       |0     |Apple  |32              |\n",
      "|3      |27 |6.0       |0     |MI     |37              |\n",
      "+-------+---+----------+------+-------+----------------+\n",
      "only showing top 10 rows\n",
      "\n"
     ]
    }
   ],
   "source": [
    "df.withColumn(\"age_after_10_yrs\",(df['age'] + 10)).show(10,False)"
   ]
  },
  {
   "cell_type": "code",
   "execution_count": 11,
   "metadata": {},
   "outputs": [],
   "source": [
    "df=df.withColumn(\"age_after_10_yrs\", (df[\"age\"] + 10))\n",
    "from pyspark.sql.types import StringType,DoubleType\n"
   ]
  },
  {
   "cell_type": "code",
   "execution_count": 14,
   "metadata": {},
   "outputs": [
    {
     "name": "stdout",
     "output_type": "stream",
     "text": [
      "+-------+---+----------+------+-------+----------------+----------+\n",
      "|ratings|age|experience|family|mobile |age_after_10_yrs|age_double|\n",
      "+-------+---+----------+------+-------+----------------+----------+\n",
      "|3      |32 |9.0       |3     |Vivo   |42              |32.0      |\n",
      "|3      |27 |13.0      |3     |Apple  |37              |27.0      |\n",
      "|4      |22 |2.5       |0     |Samsung|32              |22.0      |\n",
      "|4      |37 |16.5      |4     |Apple  |47              |37.0      |\n",
      "|5      |27 |9.0       |1     |MI     |37              |27.0      |\n",
      "|4      |27 |9.0       |0     |Oppo   |37              |27.0      |\n",
      "|5      |37 |23.0      |5     |Vivo   |47              |37.0      |\n",
      "|5      |37 |23.0      |5     |Samsung|47              |37.0      |\n",
      "|3      |22 |2.5       |0     |Apple  |32              |22.0      |\n",
      "|3      |27 |6.0       |0     |MI     |37              |27.0      |\n",
      "+-------+---+----------+------+-------+----------------+----------+\n",
      "only showing top 10 rows\n",
      "\n"
     ]
    }
   ],
   "source": [
    "df.withColumn(\"age_double\", df['age'].cast(DoubleType())).show(10,False)"
   ]
  },
  {
   "cell_type": "code",
   "execution_count": 15,
   "metadata": {},
   "outputs": [
    {
     "name": "stdout",
     "output_type": "stream",
     "text": [
      "+-------+---+----------+------+------+----------------+\n",
      "|ratings|age|experience|family|mobile|age_after_10_yrs|\n",
      "+-------+---+----------+------+------+----------------+\n",
      "|      3| 32|       9.0|     3|  Vivo|              42|\n",
      "|      5| 37|      23.0|     5|  Vivo|              47|\n",
      "|      4| 37|       6.0|     0|  Vivo|              47|\n",
      "|      5| 37|      13.0|     1|  Vivo|              47|\n",
      "|      4| 37|       6.0|     0|  Vivo|              47|\n",
      "+-------+---+----------+------+------+----------------+\n",
      "\n"
     ]
    }
   ],
   "source": [
    "df.filter(df['mobile'] == 'Vivo').show()"
   ]
  },
  {
   "cell_type": "code",
   "execution_count": 16,
   "metadata": {},
   "outputs": [
    {
     "name": "stdout",
     "output_type": "stream",
     "text": [
      "+-------+---+----------+------+------+----------------+\n",
      "|ratings|age|experience|family|mobile|age_after_10_yrs|\n",
      "+-------+---+----------+------+------+----------------+\n",
      "|      5| 37|      23.0|     5|  Vivo|              47|\n",
      "|      5| 37|      13.0|     1|  Vivo|              47|\n",
      "+-------+---+----------+------+------+----------------+\n",
      "\n"
     ]
    }
   ],
   "source": [
    "df.filter(df['mobile'] == 'Vivo').filter(df['experience'] > 10).show()"
   ]
  },
  {
   "cell_type": "code",
   "execution_count": 19,
   "metadata": {},
   "outputs": [
    {
     "name": "stdout",
     "output_type": "stream",
     "text": [
      "+-------+---+----------+------+------+----------------+\n",
      "|ratings|age|experience|family|mobile|age_after_10_yrs|\n",
      "+-------+---+----------+------+------+----------------+\n",
      "|      5| 37|      23.0|     5|  Vivo|              47|\n",
      "|      5| 37|      13.0|     1|  Vivo|              47|\n",
      "+-------+---+----------+------+------+----------------+\n",
      "\n"
     ]
    }
   ],
   "source": [
    "df.filter((df['mobile'] == 'Vivo') & (df['experience'] > 10)).show()"
   ]
  },
  {
   "cell_type": "code",
   "execution_count": 20,
   "metadata": {},
   "outputs": [
    {
     "name": "stdout",
     "output_type": "stream",
     "text": [
      "+-------+\n",
      "| mobile|\n",
      "+-------+\n",
      "|     MI|\n",
      "|   Oppo|\n",
      "|Samsung|\n",
      "|   Vivo|\n",
      "|  Apple|\n",
      "+-------+\n",
      "\n"
     ]
    }
   ],
   "source": [
    "# 列中的非重复值\n",
    "df.select(\"mobile\").distinct().show()"
   ]
  },
  {
   "cell_type": "code",
   "execution_count": 21,
   "metadata": {},
   "outputs": [
    {
     "data": {
      "text/plain": [
       "5"
      ]
     },
     "execution_count": 21,
     "metadata": {},
     "output_type": "execute_result"
    }
   ],
   "source": [
    "df.select(\"mobile\").distinct().count()"
   ]
  },
  {
   "cell_type": "code",
   "execution_count": 22,
   "metadata": {},
   "outputs": [
    {
     "name": "stdout",
     "output_type": "stream",
     "text": [
      "+-------+-----+\n",
      "|mobile |count|\n",
      "+-------+-----+\n",
      "|MI     |8    |\n",
      "|Oppo   |7    |\n",
      "|Samsung|6    |\n",
      "|Vivo   |5    |\n",
      "|Apple  |7    |\n",
      "+-------+-----+\n",
      "\n"
     ]
    }
   ],
   "source": [
    "# 数据分组\n",
    "df.groupBy('mobile').count().show(5,False)"
   ]
  },
  {
   "cell_type": "code",
   "execution_count": 23,
   "metadata": {},
   "outputs": [
    {
     "name": "stdout",
     "output_type": "stream",
     "text": [
      "+-------+-----+\n",
      "|mobile |count|\n",
      "+-------+-----+\n",
      "|MI     |8    |\n",
      "|Oppo   |7    |\n",
      "|Apple  |7    |\n",
      "|Samsung|6    |\n",
      "|Vivo   |5    |\n",
      "+-------+-----+\n",
      "\n"
     ]
    }
   ],
   "source": [
    "df.groupBy('mobile').count().orderBy('count', ascending=False).show(5,False)"
   ]
  },
  {
   "cell_type": "code",
   "execution_count": 24,
   "metadata": {},
   "outputs": [
    {
     "name": "stdout",
     "output_type": "stream",
     "text": [
      "+-------+------------------+------------------+------------------+------------------+---------------------+\n",
      "|mobile |avg(ratings)      |avg(age)          |avg(experience)   |avg(family)       |avg(age_after_10_yrs)|\n",
      "+-------+------------------+------------------+------------------+------------------+---------------------+\n",
      "|MI     |3.5               |30.125            |10.1875           |1.375             |40.125               |\n",
      "|Oppo   |2.857142857142857 |28.428571428571427|10.357142857142858|1.4285714285714286|38.42857142857143    |\n",
      "|Samsung|4.166666666666667 |28.666666666666668|8.666666666666666 |1.8333333333333333|38.666666666666664   |\n",
      "|Vivo   |4.2               |36.0              |11.4              |1.8               |46.0                 |\n",
      "|Apple  |3.4285714285714284|30.571428571428573|11.0              |2.7142857142857144|40.57142857142857    |\n",
      "+-------+------------------+------------------+------------------+------------------+---------------------+\n",
      "\n"
     ]
    }
   ],
   "source": [
    "# 平均值\n",
    "df.groupBy('mobile').mean().show(5, False)"
   ]
  },
  {
   "cell_type": "code",
   "execution_count": 25,
   "metadata": {},
   "outputs": [
    {
     "name": "stdout",
     "output_type": "stream",
     "text": [
      "+-------+------------+--------+---------------+-----------+---------------------+\n",
      "|mobile |sum(ratings)|sum(age)|sum(experience)|sum(family)|sum(age_after_10_yrs)|\n",
      "+-------+------------+--------+---------------+-----------+---------------------+\n",
      "|MI     |28          |241     |81.5           |11         |321                  |\n",
      "|Oppo   |20          |199     |72.5           |10         |269                  |\n",
      "|Samsung|25          |172     |52.0           |11         |232                  |\n",
      "|Vivo   |21          |180     |57.0           |9          |230                  |\n",
      "|Apple  |24          |214     |77.0           |19         |284                  |\n",
      "+-------+------------+--------+---------------+-----------+---------------------+\n",
      "\n"
     ]
    }
   ],
   "source": [
    "# sum\n",
    "df.groupBy('mobile').sum().show(5,False)"
   ]
  },
  {
   "cell_type": "code",
   "execution_count": 26,
   "metadata": {},
   "outputs": [
    {
     "name": "stdout",
     "output_type": "stream",
     "text": [
      "+-------+------------+--------+---------------+-----------+---------------------+\n",
      "|mobile |max(ratings)|max(age)|max(experience)|max(family)|max(age_after_10_yrs)|\n",
      "+-------+------------+--------+---------------+-----------+---------------------+\n",
      "|MI     |5           |42      |23.0           |5          |52                   |\n",
      "|Oppo   |4           |42      |23.0           |2          |52                   |\n",
      "|Samsung|5           |37      |23.0           |5          |47                   |\n",
      "|Vivo   |5           |37      |23.0           |5          |47                   |\n",
      "|Apple  |4           |37      |16.5           |5          |47                   |\n",
      "+-------+------------+--------+---------------+-----------+---------------------+\n",
      "\n"
     ]
    }
   ],
   "source": [
    "# 最大值\n",
    "df.groupBy('mobile').max().show(5,False)"
   ]
  },
  {
   "cell_type": "code",
   "execution_count": 27,
   "metadata": {},
   "outputs": [
    {
     "name": "stdout",
     "output_type": "stream",
     "text": [
      "+-------+------------+--------+---------------+-----------+---------------------+\n",
      "|mobile |min(ratings)|min(age)|min(experience)|min(family)|min(age_after_10_yrs)|\n",
      "+-------+------------+--------+---------------+-----------+---------------------+\n",
      "|MI     |1           |27      |2.5            |0          |37                   |\n",
      "|Oppo   |2           |22      |6.0            |0          |32                   |\n",
      "|Samsung|2           |22      |2.5            |0          |32                   |\n",
      "|Vivo   |3           |32      |6.0            |0          |42                   |\n",
      "|Apple  |3           |22      |2.5            |0          |32                   |\n",
      "+-------+------------+--------+---------------+-----------+---------------------+\n",
      "\n"
     ]
    }
   ],
   "source": [
    "# 最小值\n",
    "df.groupBy('mobile').min().show(5,False)"
   ]
  },
  {
   "cell_type": "code",
   "execution_count": 28,
   "metadata": {},
   "outputs": [
    {
     "name": "stdout",
     "output_type": "stream",
     "text": [
      "+-------+---------------+\n",
      "|mobile |sum(experience)|\n",
      "+-------+---------------+\n",
      "|MI     |81.5           |\n",
      "|Oppo   |72.5           |\n",
      "|Samsung|52.0           |\n",
      "|Vivo   |57.0           |\n",
      "|Apple  |77.0           |\n",
      "+-------+---------------+\n",
      "\n"
     ]
    }
   ],
   "source": [
    "df.groupBy('mobile').agg({'experience':'sum'}).show(5,False)"
   ]
  },
  {
   "cell_type": "code",
   "execution_count": 29,
   "metadata": {},
   "outputs": [
    {
     "name": "stdout",
     "output_type": "stream",
     "text": [
      "+-------+---+----------+------+-------+----------------+-----------+\n",
      "|ratings|age|experience|family|mobile |age_after_10_yrs|price_range|\n",
      "+-------+---+----------+------+-------+----------------+-----------+\n",
      "|3      |32 |9.0       |3     |Vivo   |42              |Low Price  |\n",
      "|3      |27 |13.0      |3     |Apple  |37              |High Price |\n",
      "|4      |22 |2.5       |0     |Samsung|32              |High Price |\n",
      "|4      |37 |16.5      |4     |Apple  |47              |High Price |\n",
      "|5      |27 |9.0       |1     |MI     |37              |Mid Price  |\n",
      "|4      |27 |9.0       |0     |Oppo   |37              |Low Price  |\n",
      "|5      |37 |23.0      |5     |Vivo   |47              |Low Price  |\n",
      "|5      |37 |23.0      |5     |Samsung|47              |High Price |\n",
      "|3      |22 |2.5       |0     |Apple  |32              |High Price |\n",
      "|3      |27 |6.0       |0     |MI     |37              |Mid Price  |\n",
      "+-------+---+----------+------+-------+----------------+-----------+\n",
      "only showing top 10 rows\n",
      "\n"
     ]
    }
   ],
   "source": [
    "# 用户自定义UDF\n",
    "# pyspark提供了两种类型的UDF：Conventional UDF和 Pandas UDF\n",
    "from pyspark.sql.functions import udf\n",
    "def price_range(brand):\n",
    "    if brand in ['Samsung', 'Apple']:\n",
    "        return 'High Price'\n",
    "    elif brand == 'MI':\n",
    "        return 'Mid Price'\n",
    "    else:\n",
    "        return 'Low Price'\n",
    "\n",
    "brand_udf = udf(price_range, StringType())\n",
    "# 要将udf(brand_utf) 应用到DataFrame的Mobile列，并且创建一个具有新值的新列(price_range)\n",
    "df.withColumn('price_range', brand_udf(df['mobile'])).show(10,False)"
   ]
  },
  {
   "cell_type": "code",
   "execution_count": 30,
   "metadata": {},
   "outputs": [
    {
     "name": "stdout",
     "output_type": "stream",
     "text": [
      "+-------+---+----------+------+-------+----------------+---------+\n",
      "|ratings|age|experience|family|mobile |age_after_10_yrs|age_group|\n",
      "+-------+---+----------+------+-------+----------------+---------+\n",
      "|3      |32 |9.0       |3     |Vivo   |42              |senior   |\n",
      "|3      |27 |13.0      |3     |Apple  |37              |young    |\n",
      "|4      |22 |2.5       |0     |Samsung|32              |young    |\n",
      "|4      |37 |16.5      |4     |Apple  |47              |senior   |\n",
      "|5      |27 |9.0       |1     |MI     |37              |young    |\n",
      "|4      |27 |9.0       |0     |Oppo   |37              |young    |\n",
      "|5      |37 |23.0      |5     |Vivo   |47              |senior   |\n",
      "|5      |37 |23.0      |5     |Samsung|47              |senior   |\n",
      "|3      |22 |2.5       |0     |Apple  |32              |young    |\n",
      "|3      |27 |6.0       |0     |MI     |37              |young    |\n",
      "+-------+---+----------+------+-------+----------------+---------+\n",
      "only showing top 10 rows\n",
      "\n"
     ]
    }
   ],
   "source": [
    "# 使用Lambda函数\n",
    "age_udf = udf(lambda age: \"young\" if age <=30 else \"senior\", StringType())\n",
    "df.withColumn(\"age_group\", age_udf(df.age)).show(10, False)"
   ]
  },
  {
   "cell_type": "code",
   "execution_count": 36,
   "metadata": {},
   "outputs": [],
   "source": [
    "# Pandas UDF(向量化的UDF)\n",
    "# 支持两种类型：Scalar 和 GroupedMap\n",
    "from pyspark.sql.functions import pandas_udf\n",
    "from pyspark.sql.types import IntegerType\n",
    "def remaining_yrs(age):\n",
    "    yrs_left = (100 - age)\n",
    "    return yrs_left"
   ]
  },
  {
   "cell_type": "code",
   "execution_count": 41,
   "metadata": {},
   "outputs": [
    {
     "name": "stdout",
     "output_type": "stream",
     "text": [
      "+-------+---+----------+------+-------+----------------+--------+\n",
      "|ratings|age|experience|family|mobile |age_after_10_yrs|yrs_left|\n",
      "+-------+---+----------+------+-------+----------------+--------+\n",
      "|3      |32 |9.0       |3     |Vivo   |42              |68      |\n",
      "|3      |27 |13.0      |3     |Apple  |37              |73      |\n",
      "|4      |22 |2.5       |0     |Samsung|32              |78      |\n",
      "|4      |37 |16.5      |4     |Apple  |47              |63      |\n",
      "|5      |27 |9.0       |1     |MI     |37              |73      |\n",
      "|4      |27 |9.0       |0     |Oppo   |37              |73      |\n",
      "|5      |37 |23.0      |5     |Vivo   |47              |63      |\n",
      "|5      |37 |23.0      |5     |Samsung|47              |63      |\n",
      "|3      |22 |2.5       |0     |Apple  |32              |78      |\n",
      "|3      |27 |6.0       |0     |MI     |37              |73      |\n",
      "+-------+---+----------+------+-------+----------------+--------+\n",
      "only showing top 10 rows\n",
      "\n"
     ]
    }
   ],
   "source": [
    "length_udf = pandas_udf(remaining_yrs, IntegerType())\n",
    "df.withColumn('yrs_left', length_udf(df['age'])).show(10,False)"
   ]
  },
  {
   "cell_type": "code",
   "execution_count": 42,
   "metadata": {},
   "outputs": [],
   "source": [
    "# Pandas UDF(多列)\n",
    "def prod(rating, exp):\n",
    "    x = rating * exp\n",
    "    return x"
   ]
  },
  {
   "cell_type": "code",
   "execution_count": 43,
   "metadata": {},
   "outputs": [
    {
     "name": "stdout",
     "output_type": "stream",
     "text": [
      "+-------+---+----------+------+-------+----------------+-------+\n",
      "|ratings|age|experience|family|mobile |age_after_10_yrs|product|\n",
      "+-------+---+----------+------+-------+----------------+-------+\n",
      "|3      |32 |9.0       |3     |Vivo   |42              |27.0   |\n",
      "|3      |27 |13.0      |3     |Apple  |37              |39.0   |\n",
      "|4      |22 |2.5       |0     |Samsung|32              |10.0   |\n",
      "|4      |37 |16.5      |4     |Apple  |47              |66.0   |\n",
      "|5      |27 |9.0       |1     |MI     |37              |45.0   |\n",
      "|4      |27 |9.0       |0     |Oppo   |37              |36.0   |\n",
      "|5      |37 |23.0      |5     |Vivo   |47              |115.0  |\n",
      "|5      |37 |23.0      |5     |Samsung|47              |115.0  |\n",
      "|3      |22 |2.5       |0     |Apple  |32              |7.5    |\n",
      "|3      |27 |6.0       |0     |MI     |37              |18.0   |\n",
      "+-------+---+----------+------+-------+----------------+-------+\n",
      "only showing top 10 rows\n",
      "\n"
     ]
    }
   ],
   "source": [
    "prod_udf = pandas_udf(prod, DoubleType())\n",
    "df.withColumn(\"product\", prod_udf(df['ratings'], df['experience'])).show(10,False)"
   ]
  },
  {
   "cell_type": "code",
   "execution_count": 44,
   "metadata": {},
   "outputs": [
    {
     "data": {
      "text/plain": [
       "33"
      ]
     },
     "execution_count": 44,
     "metadata": {},
     "output_type": "execute_result"
    }
   ],
   "source": [
    "# 去掉重复值\n",
    "df.count()"
   ]
  },
  {
   "cell_type": "code",
   "execution_count": 45,
   "metadata": {},
   "outputs": [
    {
     "data": {
      "text/plain": [
       "26"
      ]
     },
     "execution_count": 45,
     "metadata": {},
     "output_type": "execute_result"
    }
   ],
   "source": [
    "df = df.dropDuplicates()\n",
    "df.count()"
   ]
  },
  {
   "cell_type": "code",
   "execution_count": 46,
   "metadata": {},
   "outputs": [
    {
     "name": "stdout",
     "output_type": "stream",
     "text": [
      "+-------+---+----------+------+----------------+\n",
      "|ratings|age|experience|family|age_after_10_yrs|\n",
      "+-------+---+----------+------+----------------+\n",
      "|      4| 37|      16.5|     4|              47|\n",
      "|      3| 42|      23.0|     5|              52|\n",
      "|      4| 37|       6.0|     0|              47|\n",
      "|      5| 37|      23.0|     5|              47|\n",
      "|      2| 27|       9.0|     2|              37|\n",
      "|      4| 22|       2.5|     0|              32|\n",
      "|      5| 27|       6.0|     0|              37|\n",
      "|      4| 27|       9.0|     0|              37|\n",
      "|      3| 22|       2.5|     0|              32|\n",
      "|      2| 27|       6.0|     2|              37|\n",
      "|      5| 27|       6.0|     2|              37|\n",
      "|      3| 27|      13.0|     3|              37|\n",
      "|      4| 37|       9.0|     2|              47|\n",
      "|      4| 22|       6.0|     1|              32|\n",
      "|      5| 22|       2.5|     0|              32|\n",
      "|      4| 27|       6.0|     1|              37|\n",
      "|      3| 32|       9.0|     3|              42|\n",
      "|      5| 27|       9.0|     1|              37|\n",
      "|      1| 37|      23.0|     5|              47|\n",
      "|      2| 42|      23.0|     2|              52|\n",
      "+-------+---+----------+------+----------------+\n",
      "only showing top 20 rows\n",
      "\n"
     ]
    }
   ],
   "source": [
    "# 删除列\n",
    "df_new = df.drop('mobile')\n",
    "df_new.show()"
   ]
  },
  {
   "cell_type": "code",
   "execution_count": 48,
   "metadata": {},
   "outputs": [],
   "source": [
    "# 写入数据，CSV\n",
    "write_uri = '/Users/zhurunlong/Documents/spark-2.4.8-bin-hadoop2.7/df_csv'"
   ]
  },
  {
   "cell_type": "code",
   "execution_count": 49,
   "metadata": {},
   "outputs": [],
   "source": [
    "df.coalesce(1).write.format(\"csv\").option(\"header\", \"true\").save(write_uri)"
   ]
  },
  {
   "cell_type": "code",
   "execution_count": 50,
   "metadata": {},
   "outputs": [],
   "source": [
    "# 嵌套结构，\n",
    "parquet_uri='/Users/zhurunlong/Documents/spark-2.4.8-bin-hadoop2.7/df_parquet'\n",
    "df.write.format('parquet').save(parquet_uri)"
   ]
  },
  {
   "cell_type": "code",
   "execution_count": null,
   "metadata": {},
   "outputs": [],
   "source": []
  }
 ],
 "metadata": {
  "kernelspec": {
   "display_name": "Python 3",
   "language": "python",
   "name": "python3"
  },
  "language_info": {
   "codemirror_mode": {
    "name": "ipython",
    "version": 3
   },
   "file_extension": ".py",
   "mimetype": "text/x-python",
   "name": "python",
   "nbconvert_exporter": "python",
   "pygments_lexer": "ipython3",
   "version": "3.6.12"
  }
 },
 "nbformat": 4,
 "nbformat_minor": 4
}
