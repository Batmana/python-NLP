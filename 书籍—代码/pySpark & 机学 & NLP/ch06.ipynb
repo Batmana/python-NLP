{
 "cells": [
  {
   "cell_type": "code",
   "execution_count": 1,
   "id": "wrong-wilderness",
   "metadata": {},
   "outputs": [],
   "source": [
    "# ch06 随机森林\n",
    "# 步骤1: 创建SparkSession对象\n",
    "from pyspark.sql import SparkSession\n",
    "spark=SparkSession.builder.appName('random_forest').getOrCreate()"
   ]
  },
  {
   "cell_type": "code",
   "execution_count": 2,
   "id": "covered-bumper",
   "metadata": {},
   "outputs": [],
   "source": [
    "# 步骤2: 读取数据集\n",
    "df = spark.read.csv('affairs.csv', inferSchema=True, header=True)"
   ]
  },
  {
   "cell_type": "code",
   "execution_count": 3,
   "id": "balanced-schedule",
   "metadata": {},
   "outputs": [
    {
     "name": "stdout",
     "output_type": "stream",
     "text": [
      "6366 6\n"
     ]
    }
   ],
   "source": [
    "print(df.count(), len(df.columns))"
   ]
  },
  {
   "cell_type": "code",
   "execution_count": 4,
   "id": "hawaiian-temple",
   "metadata": {},
   "outputs": [
    {
     "name": "stdout",
     "output_type": "stream",
     "text": [
      "root\n",
      " |-- rate_marriage: integer (nullable = true)\n",
      " |-- age: double (nullable = true)\n",
      " |-- yrs_married: double (nullable = true)\n",
      " |-- children: double (nullable = true)\n",
      " |-- religious: integer (nullable = true)\n",
      " |-- affairs: integer (nullable = true)\n",
      "\n"
     ]
    }
   ],
   "source": [
    "df.printSchema()"
   ]
  },
  {
   "cell_type": "code",
   "execution_count": 6,
   "id": "academic-separation",
   "metadata": {},
   "outputs": [
    {
     "name": "stdout",
     "output_type": "stream",
     "text": [
      "+-------------+----+-----------+--------+---------+-------+\n",
      "|rate_marriage| age|yrs_married|children|religious|affairs|\n",
      "+-------------+----+-----------+--------+---------+-------+\n",
      "|            5|32.0|        6.0|     1.0|        3|      0|\n",
      "|            4|22.0|        2.5|     0.0|        2|      0|\n",
      "|            3|32.0|        9.0|     3.0|        3|      1|\n",
      "|            3|27.0|       13.0|     3.0|        1|      1|\n",
      "|            4|22.0|        2.5|     0.0|        1|      1|\n",
      "+-------------+----+-----------+--------+---------+-------+\n",
      "only showing top 5 rows\n",
      "\n"
     ]
    }
   ],
   "source": [
    "df.show(5)\n"
   ]
  },
  {
   "cell_type": "code",
   "execution_count": 7,
   "id": "formal-symphony",
   "metadata": {},
   "outputs": [
    {
     "name": "stdout",
     "output_type": "stream",
     "text": [
      "+-------+------------------+------------------+-----------------+------------------+------------------+\n",
      "|summary|     rate_marriage|               age|      yrs_married|          children|         religious|\n",
      "+-------+------------------+------------------+-----------------+------------------+------------------+\n",
      "|  count|              6366|              6366|             6366|              6366|              6366|\n",
      "|   mean| 4.109644989004084|29.082862079798932| 9.00942507068803|1.3968740182218033|2.4261702796104303|\n",
      "| stddev|0.9614295945655025| 6.847881883668817|7.280119972766412| 1.433470828560344|0.8783688402641785|\n",
      "|    min|                 1|              17.5|              0.5|               0.0|                 1|\n",
      "|    max|                 5|              42.0|             23.0|               5.5|                 4|\n",
      "+-------+------------------+------------------+-----------------+------------------+------------------+\n",
      "\n"
     ]
    }
   ],
   "source": [
    "df.describe().select('summary','rate_marriage', 'age', 'yrs_married', 'children', 'religious').show()"
   ]
  },
  {
   "cell_type": "code",
   "execution_count": 8,
   "id": "stable-market",
   "metadata": {},
   "outputs": [
    {
     "name": "stdout",
     "output_type": "stream",
     "text": [
      "+-------+-----+\n",
      "|affairs|count|\n",
      "+-------+-----+\n",
      "|      1| 2053|\n",
      "|      0| 4313|\n",
      "+-------+-----+\n",
      "\n"
     ]
    }
   ],
   "source": [
    "df.groupBy('affairs').count().show()"
   ]
  },
  {
   "cell_type": "code",
   "execution_count": 9,
   "id": "damaged-handling",
   "metadata": {},
   "outputs": [
    {
     "name": "stdout",
     "output_type": "stream",
     "text": [
      "+-------------+-------+-----+\n",
      "|rate_marriage|affairs|count|\n",
      "+-------------+-------+-----+\n",
      "|            1|      0|   25|\n",
      "|            3|      1|  547|\n",
      "|            4|      0| 1518|\n",
      "|            1|      1|   74|\n",
      "|            2|      1|  221|\n",
      "|            2|      0|  127|\n",
      "|            5|      0| 2197|\n",
      "|            5|      1|  487|\n",
      "|            3|      0|  446|\n",
      "|            4|      1|  724|\n",
      "+-------------+-------+-----+\n",
      "\n"
     ]
    }
   ],
   "source": [
    "df.groupBy('rate_marriage', 'affairs').count().show()"
   ]
  },
  {
   "cell_type": "code",
   "execution_count": 10,
   "id": "economic-effect",
   "metadata": {},
   "outputs": [
    {
     "name": "stdout",
     "output_type": "stream",
     "text": [
      "+-------------+-------+-----+\n",
      "|rate_marriage|affairs|count|\n",
      "+-------------+-------+-----+\n",
      "|            1|      0|   25|\n",
      "|            1|      1|   74|\n",
      "|            2|      0|  127|\n",
      "|            2|      1|  221|\n",
      "|            3|      0|  446|\n",
      "|            3|      1|  547|\n",
      "|            4|      0| 1518|\n",
      "|            4|      1|  724|\n",
      "|            5|      0| 2197|\n",
      "|            5|      1|  487|\n",
      "+-------------+-------+-----+\n",
      "\n"
     ]
    }
   ],
   "source": [
    "# 婚姻评分与婚姻关系\n",
    "df.groupBy('rate_marriage', 'affairs').count().orderBy('rate_marriage', 'affairs', 'count', ascending=True).show()"
   ]
  },
  {
   "cell_type": "code",
   "execution_count": 11,
   "id": "associate-effect",
   "metadata": {},
   "outputs": [
    {
     "name": "stdout",
     "output_type": "stream",
     "text": [
      "+---------+-------+-----+\n",
      "|religious|affairs|count|\n",
      "+---------+-------+-----+\n",
      "|        1|      0|  613|\n",
      "|        1|      1|  408|\n",
      "|        2|      0| 1448|\n",
      "|        2|      1|  819|\n",
      "|        3|      0| 1715|\n",
      "|        3|      1|  707|\n",
      "|        4|      0|  537|\n",
      "|        4|      1|  119|\n",
      "+---------+-------+-----+\n",
      "\n"
     ]
    }
   ],
   "source": [
    "# 宗教信仰与婚姻关系\n",
    "df.groupBy('religious', 'affairs').count().orderBy('religious', 'affairs', 'count', ascending=True).show()"
   ]
  },
  {
   "cell_type": "code",
   "execution_count": 12,
   "id": "gross-likelihood",
   "metadata": {},
   "outputs": [
    {
     "name": "stdout",
     "output_type": "stream",
     "text": [
      "+--------+-------+-----+\n",
      "|children|affairs|count|\n",
      "+--------+-------+-----+\n",
      "|     0.0|      0| 1912|\n",
      "|     0.0|      1|  502|\n",
      "|     1.0|      0|  747|\n",
      "|     1.0|      1|  412|\n",
      "|     2.0|      0|  873|\n",
      "|     2.0|      1|  608|\n",
      "|     3.0|      0|  460|\n",
      "|     3.0|      1|  321|\n",
      "|     4.0|      0|  197|\n",
      "|     4.0|      1|  131|\n",
      "|     5.5|      0|  124|\n",
      "|     5.5|      1|   79|\n",
      "+--------+-------+-----+\n",
      "\n"
     ]
    }
   ],
   "source": [
    "# 子女数量与婚姻关系\n",
    "df.groupBy('children', 'affairs').count().orderBy('children', 'affairs', 'count', ascending=True).show()\n"
   ]
  },
  {
   "cell_type": "code",
   "execution_count": 13,
   "id": "imposed-barrel",
   "metadata": {},
   "outputs": [
    {
     "name": "stdout",
     "output_type": "stream",
     "text": [
      "+-------+------------------+------------------+------------------+------------------+------------------+------------+\n",
      "|affairs|avg(rate_marriage)|          avg(age)|  avg(yrs_married)|     avg(children)|    avg(religious)|avg(affairs)|\n",
      "+-------+------------------+------------------+------------------+------------------+------------------+------------+\n",
      "|      1|3.6473453482708234|30.537018996590355|11.152459814905017|1.7289332683877252| 2.261568436434486|         1.0|\n",
      "|      0| 4.329700904242986| 28.39067934152562| 7.989334569904939|1.2388128912589844|2.5045212149316023|         0.0|\n",
      "+-------+------------------+------------------+------------------+------------------+------------------+------------+\n",
      "\n"
     ]
    }
   ],
   "source": [
    "df.groupBy('affairs').mean().show()"
   ]
  },
  {
   "cell_type": "code",
   "execution_count": 14,
   "id": "pretty-virginia",
   "metadata": {},
   "outputs": [],
   "source": [
    "# 步骤4： 特征工程\n",
    "from pyspark.ml.feature import VectorAssembler\n",
    "df_assembler = VectorAssembler(inputCols=['rate_marriage', 'age', 'yrs_married', 'children', 'religious'], outputCol=\"features\")"
   ]
  },
  {
   "cell_type": "code",
   "execution_count": 15,
   "id": "blessed-philip",
   "metadata": {},
   "outputs": [
    {
     "name": "stdout",
     "output_type": "stream",
     "text": [
      "root\n",
      " |-- rate_marriage: integer (nullable = true)\n",
      " |-- age: double (nullable = true)\n",
      " |-- yrs_married: double (nullable = true)\n",
      " |-- children: double (nullable = true)\n",
      " |-- religious: integer (nullable = true)\n",
      " |-- affairs: integer (nullable = true)\n",
      " |-- features: vector (nullable = true)\n",
      "\n"
     ]
    }
   ],
   "source": [
    "df=df_assembler.transform(df)\n",
    "df.printSchema()"
   ]
  },
  {
   "cell_type": "code",
   "execution_count": 16,
   "id": "private-pressure",
   "metadata": {},
   "outputs": [
    {
     "name": "stdout",
     "output_type": "stream",
     "text": [
      "+-----------------------+-------+\n",
      "|features               |affairs|\n",
      "+-----------------------+-------+\n",
      "|[5.0,32.0,6.0,1.0,3.0] |0      |\n",
      "|[4.0,22.0,2.5,0.0,2.0] |0      |\n",
      "|[3.0,32.0,9.0,3.0,3.0] |1      |\n",
      "|[3.0,27.0,13.0,3.0,1.0]|1      |\n",
      "|[4.0,22.0,2.5,0.0,1.0] |1      |\n",
      "|[4.0,37.0,16.5,4.0,3.0]|1      |\n",
      "|[5.0,27.0,9.0,1.0,1.0] |1      |\n",
      "|[4.0,27.0,9.0,0.0,2.0] |1      |\n",
      "|[5.0,37.0,23.0,5.5,2.0]|1      |\n",
      "|[5.0,37.0,23.0,5.5,2.0]|1      |\n",
      "+-----------------------+-------+\n",
      "only showing top 10 rows\n",
      "\n"
     ]
    }
   ],
   "source": [
    "df.select(['features', 'affairs']).show(10, False)"
   ]
  },
  {
   "cell_type": "code",
   "execution_count": 17,
   "id": "raised-frontier",
   "metadata": {},
   "outputs": [],
   "source": [
    "# 步骤5: 划分数据集\n",
    "model_df = df.select(['features', 'affairs'])"
   ]
  },
  {
   "cell_type": "code",
   "execution_count": 18,
   "id": "emotional-print",
   "metadata": {},
   "outputs": [
    {
     "name": "stdout",
     "output_type": "stream",
     "text": [
      "4741\n"
     ]
    }
   ],
   "source": [
    "train_df, test_df = model_df.randomSplit([0.75, 0.25])\n",
    "print(train_df.count())"
   ]
  },
  {
   "cell_type": "code",
   "execution_count": 19,
   "id": "altered-bankruptcy",
   "metadata": {},
   "outputs": [
    {
     "name": "stdout",
     "output_type": "stream",
     "text": [
      "+-------+-----+\n",
      "|affairs|count|\n",
      "+-------+-----+\n",
      "|      1| 1513|\n",
      "|      0| 3228|\n",
      "+-------+-----+\n",
      "\n"
     ]
    }
   ],
   "source": [
    "train_df.groupBy('affairs').count().show()"
   ]
  },
  {
   "cell_type": "code",
   "execution_count": 20,
   "id": "substantial-absence",
   "metadata": {},
   "outputs": [
    {
     "name": "stdout",
     "output_type": "stream",
     "text": [
      "+-------+-----+\n",
      "|affairs|count|\n",
      "+-------+-----+\n",
      "|      1|  540|\n",
      "|      0| 1085|\n",
      "+-------+-----+\n",
      "\n"
     ]
    }
   ],
   "source": [
    "test_df.groupBy('affairs').count().show()"
   ]
  },
  {
   "cell_type": "code",
   "execution_count": 22,
   "id": "external-violence",
   "metadata": {},
   "outputs": [],
   "source": [
    "# 步骤6: 构建和训练随机森林模型\n",
    "from pyspark.ml.classification import RandomForestClassifier\n",
    "rf_classifier = RandomForestClassifier(labelCol='affairs', numTrees=50).fit(train_df)"
   ]
  },
  {
   "cell_type": "code",
   "execution_count": 23,
   "id": "varying-latter",
   "metadata": {},
   "outputs": [
    {
     "name": "stdout",
     "output_type": "stream",
     "text": [
      "+--------------------+-------+--------------------+--------------------+----------+\n",
      "|            features|affairs|       rawPrediction|         probability|prediction|\n",
      "+--------------------+-------+--------------------+--------------------+----------+\n",
      "|[1.0,22.0,2.5,0.0...|      1|[18.4106178655330...|[0.36821235731066...|       1.0|\n",
      "|[1.0,22.0,2.5,0.0...|      1|[18.4106178655330...|[0.36821235731066...|       1.0|\n",
      "|[1.0,22.0,2.5,1.0...|      1|[19.9617822479001...|[0.39923564495800...|       1.0|\n",
      "|[1.0,22.0,2.5,1.0...|      0|[20.9029330494226...|[0.41805866098845...|       1.0|\n",
      "|[1.0,27.0,2.5,0.0...|      0|[18.2780513051927...|[0.36556102610385...|       1.0|\n",
      "|[1.0,27.0,6.0,1.0...|      1|[22.5683015169502...|[0.45136603033900...|       1.0|\n",
      "|[1.0,27.0,6.0,1.0...|      0|[19.5529587147099...|[0.39105917429419...|       1.0|\n",
      "|[1.0,27.0,6.0,2.0...|      1|[17.9958017209918...|[0.35991603441983...|       1.0|\n",
      "|[1.0,27.0,9.0,2.0...|      1|[15.1388539257283...|[0.30277707851456...|       1.0|\n",
      "|[1.0,32.0,13.0,1....|      1|[15.3362994854743...|[0.30672598970948...|       1.0|\n",
      "|[1.0,32.0,13.0,2....|      1|[15.7091578799875...|[0.31418315759975...|       1.0|\n",
      "|[1.0,32.0,16.5,2....|      1|[15.4052708116150...|[0.30810541623230...|       1.0|\n",
      "|[1.0,32.0,16.5,3....|      1|[15.4490959255810...|[0.30898191851162...|       1.0|\n",
      "|[1.0,32.0,16.5,4....|      1|[17.4190422430263...|[0.34838084486052...|       1.0|\n",
      "|[1.0,32.0,16.5,5....|      0|[13.3901607749584...|[0.26780321549916...|       1.0|\n",
      "|[1.0,37.0,16.5,2....|      1|[15.6015815402585...|[0.31203163080517...|       1.0|\n",
      "|[1.0,37.0,23.0,4....|      1|[13.7389995656325...|[0.27477999131265...|       1.0|\n",
      "|[1.0,42.0,16.5,1....|      1|[15.1038823936475...|[0.30207764787295...|       1.0|\n",
      "|[1.0,42.0,16.5,3....|      1|[19.9458266624187...|[0.39891653324837...|       1.0|\n",
      "|[1.0,42.0,23.0,2....|      1|[13.6402803230698...|[0.27280560646139...|       1.0|\n",
      "+--------------------+-------+--------------------+--------------------+----------+\n",
      "only showing top 20 rows\n",
      "\n"
     ]
    }
   ],
   "source": [
    "# 步骤7: 基于测试数据进行评估\n",
    "rf_predictions = rf_classifier.transform(test_df)\n",
    "rf_predictions.show()\n",
    "# 输出格式：\n",
    "# 特征 真实标签 置信度 类别条件概率 预测标签"
   ]
  },
  {
   "cell_type": "code",
   "execution_count": 24,
   "id": "fourth-spiritual",
   "metadata": {},
   "outputs": [
    {
     "name": "stdout",
     "output_type": "stream",
     "text": [
      "+----------+-----+\n",
      "|prediction|count|\n",
      "+----------+-----+\n",
      "|       0.0| 1331|\n",
      "|       1.0|  294|\n",
      "+----------+-----+\n",
      "\n"
     ]
    }
   ],
   "source": [
    "rf_predictions.groupBy('prediction').count().show()"
   ]
  },
  {
   "cell_type": "code",
   "execution_count": 25,
   "id": "atlantic-office",
   "metadata": {},
   "outputs": [],
   "source": [
    "# 评估预测，引入类\n",
    "from pyspark.ml.evaluation import MulticlassClassificationEvaluator\n",
    "from pyspark.ml.evaluation import BinaryClassificationEvaluator"
   ]
  },
  {
   "cell_type": "code",
   "execution_count": 29,
   "id": "hungry-ballet",
   "metadata": {},
   "outputs": [
    {
     "name": "stdout",
     "output_type": "stream",
     "text": [
      "0.7156923076923077\n",
      "The assuary of RF on test data is 72%\n"
     ]
    }
   ],
   "source": [
    "# 准确率\n",
    "rf_accuracy = MulticlassClassificationEvaluator(labelCol='affairs', metricName='accuracy').evaluate(rf_predictions)\n",
    "print(rf_accuracy)\n",
    "print('The assuary of RF on test data is {0:.0%}'.format(rf_accuracy))"
   ]
  },
  {
   "cell_type": "code",
   "execution_count": 33,
   "id": "naughty-saint",
   "metadata": {},
   "outputs": [
    {
     "name": "stdout",
     "output_type": "stream",
     "text": [
      "The precision of RF on test data is 70%\n"
     ]
    }
   ],
   "source": [
    "# 精度（其实是加权精度，不能直接用的，书中错误）\n",
    "# https://blog.csdn.net/Wang_xPP/article/details/104615416\n",
    "# https://blog.csdn.net/qq_32531519/article/details/106242693\n",
    "rf_precision = MulticlassClassificationEvaluator(labelCol='affairs', metricName='weightedPrecision').evaluate(rf_predictions)\n",
    "print('The precision of RF on test data is {0:.0%}'.format(rf_precision))"
   ]
  },
  {
   "cell_type": "code",
   "execution_count": 35,
   "id": "reduced-service",
   "metadata": {},
   "outputs": [
    {
     "name": "stdout",
     "output_type": "stream",
     "text": [
      "0.7426745178358082\n"
     ]
    }
   ],
   "source": [
    "# AUC曲线下的面积\n",
    "rf_auc=BinaryClassificationEvaluator(labelCol='affairs').evaluate(rf_predictions)\n",
    "print(rf_auc)"
   ]
  },
  {
   "cell_type": "code",
   "execution_count": 36,
   "id": "virgin-england",
   "metadata": {},
   "outputs": [
    {
     "data": {
      "text/plain": [
       "SparseVector(5, {0: 0.6295, 1: 0.027, 2: 0.2195, 3: 0.0728, 4: 0.0513})"
      ]
     },
     "execution_count": 36,
     "metadata": {},
     "output_type": "execute_result"
    }
   ],
   "source": [
    "rf_classifier.featureImportances"
   ]
  },
  {
   "cell_type": "code",
   "execution_count": 37,
   "id": "amino-seeker",
   "metadata": {},
   "outputs": [
    {
     "data": {
      "text/plain": [
       "{'numeric': [{'idx': 0, 'name': 'rate_marriage'},\n",
       "  {'idx': 1, 'name': 'age'},\n",
       "  {'idx': 2, 'name': 'yrs_married'},\n",
       "  {'idx': 3, 'name': 'children'},\n",
       "  {'idx': 4, 'name': 'religious'}]}"
      ]
     },
     "execution_count": 37,
     "metadata": {},
     "output_type": "execute_result"
    }
   ],
   "source": [
    "# 了解哪个输入特征被影射到了哪个索引值\n",
    "df.schema['features'].metadata['ml_attr']['attrs']"
   ]
  },
  {
   "cell_type": "code",
   "execution_count": 38,
   "id": "quarterly-truth",
   "metadata": {},
   "outputs": [],
   "source": [
    "# 步骤8 保存模型\n",
    "from pyspark.ml.classification import RandomForestClassificationModel\n",
    "rf_classifier.save(\"/Users/zhurunlong/Documents/output/rf_model\")"
   ]
  },
  {
   "cell_type": "code",
   "execution_count": 39,
   "id": "distinct-anger",
   "metadata": {},
   "outputs": [],
   "source": [
    "rf=RandomForestClassificationModel.load('/Users/zhurunlong/Documents/output/rf_model')"
   ]
  },
  {
   "cell_type": "code",
   "execution_count": null,
   "id": "collected-record",
   "metadata": {},
   "outputs": [],
   "source": [
    "new_preditions = rf.transform(new_df)"
   ]
  }
 ],
 "metadata": {
  "kernelspec": {
   "display_name": "Python 3",
   "language": "python",
   "name": "python3"
  },
  "language_info": {
   "codemirror_mode": {
    "name": "ipython",
    "version": 3
   },
   "file_extension": ".py",
   "mimetype": "text/x-python",
   "name": "python",
   "nbconvert_exporter": "python",
   "pygments_lexer": "ipython3",
   "version": "3.6.12"
  }
 },
 "nbformat": 4,
 "nbformat_minor": 5
}
