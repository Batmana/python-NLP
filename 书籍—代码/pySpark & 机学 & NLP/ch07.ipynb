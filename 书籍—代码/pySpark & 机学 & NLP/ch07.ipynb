{
 "cells": [
  {
   "cell_type": "code",
   "execution_count": 1,
   "id": "hired-league",
   "metadata": {},
   "outputs": [],
   "source": [
    "# ch07 推荐系统\n",
    "# https://blog.csdn.net/liulingyuan6/article/details/53489390\n",
    "# 步骤1: 创建SparkSession对象\n",
    "from pyspark.sql import SparkSession\n",
    "spark = SparkSession.builder.appName('lin_reg').getOrCreate()"
   ]
  },
  {
   "cell_type": "code",
   "execution_count": 2,
   "id": "detailed-reality",
   "metadata": {},
   "outputs": [],
   "source": [
    "# 步骤2: 读取数据集\n",
    "df = spark.read.csv('movie_ratings_df.csv', inferSchema=True, header=True)"
   ]
  },
  {
   "cell_type": "code",
   "execution_count": 5,
   "id": "cultural-rhythm",
   "metadata": {},
   "outputs": [
    {
     "name": "stdout",
     "output_type": "stream",
     "text": [
      "100000 3\n"
     ]
    }
   ],
   "source": [
    "# 步骤3: 探究式数据分析\n",
    "print(df.count(), len(df.columns))"
   ]
  },
  {
   "cell_type": "code",
   "execution_count": 6,
   "id": "considered-petite",
   "metadata": {},
   "outputs": [
    {
     "name": "stdout",
     "output_type": "stream",
     "text": [
      "root\n",
      " |-- userId: integer (nullable = true)\n",
      " |-- title: string (nullable = true)\n",
      " |-- rating: integer (nullable = true)\n",
      "\n"
     ]
    }
   ],
   "source": [
    "df.printSchema()"
   ]
  },
  {
   "cell_type": "code",
   "execution_count": 9,
   "id": "falling-climb",
   "metadata": {},
   "outputs": [
    {
     "name": "stdout",
     "output_type": "stream",
     "text": [
      "+------+----------------------------------------------+------+\n",
      "|userId|title                                         |rating|\n",
      "+------+----------------------------------------------+------+\n",
      "|389   |Ghost and Mrs. Muir, The (1947)               |4     |\n",
      "|293   |Manon of the Spring (Manon des sources) (1986)|3     |\n",
      "|848   |39 Steps, The (1935)                          |5     |\n",
      "|788   |Schindler's List (1993)                       |5     |\n",
      "|624   |Mission: Impossible (1996)                    |4     |\n",
      "|233   |Graduate, The (1967)                          |5     |\n",
      "|110   |Blink (1994)                                  |3     |\n",
      "|479   |Ghost and the Darkness, The (1996)            |2     |\n",
      "|216   |Sound of Music, The (1965)                    |2     |\n",
      "|109   |Powder (1995)                                 |4     |\n",
      "+------+----------------------------------------------+------+\n",
      "only showing top 10 rows\n",
      "\n"
     ]
    }
   ],
   "source": [
    "from pyspark.sql.functions import rand\n",
    "df.orderBy(rand()).show(10, False)"
   ]
  },
  {
   "cell_type": "code",
   "execution_count": 11,
   "id": "present-respondent",
   "metadata": {},
   "outputs": [
    {
     "name": "stdout",
     "output_type": "stream",
     "text": [
      "+------+-----+\n",
      "|userId|count|\n",
      "+------+-----+\n",
      "|405   |737  |\n",
      "|655   |685  |\n",
      "|13    |636  |\n",
      "|450   |540  |\n",
      "|276   |518  |\n",
      "|416   |493  |\n",
      "|537   |490  |\n",
      "|303   |484  |\n",
      "|234   |480  |\n",
      "|393   |448  |\n",
      "+------+-----+\n",
      "only showing top 10 rows\n",
      "\n"
     ]
    }
   ],
   "source": [
    "df.groupBy('userId').count().orderBy('count', ascending=False).show(10, False)"
   ]
  },
  {
   "cell_type": "code",
   "execution_count": 12,
   "id": "handy-identification",
   "metadata": {},
   "outputs": [
    {
     "name": "stdout",
     "output_type": "stream",
     "text": [
      "+------+-----+\n",
      "|userId|count|\n",
      "+------+-----+\n",
      "|732   |20   |\n",
      "|631   |20   |\n",
      "|572   |20   |\n",
      "|685   |20   |\n",
      "|93    |20   |\n",
      "|300   |20   |\n",
      "|636   |20   |\n",
      "|34    |20   |\n",
      "|926   |20   |\n",
      "|596   |20   |\n",
      "+------+-----+\n",
      "only showing top 10 rows\n",
      "\n"
     ]
    }
   ],
   "source": [
    "df.groupBy('userId').count().orderBy('count', ascending=True).show(10, False)"
   ]
  },
  {
   "cell_type": "code",
   "execution_count": 13,
   "id": "preliminary-messaging",
   "metadata": {},
   "outputs": [
    {
     "name": "stdout",
     "output_type": "stream",
     "text": [
      "+-----------------------------+-----+\n",
      "|title                        |count|\n",
      "+-----------------------------+-----+\n",
      "|Star Wars (1977)             |583  |\n",
      "|Contact (1997)               |509  |\n",
      "|Fargo (1996)                 |508  |\n",
      "|Return of the Jedi (1983)    |507  |\n",
      "|Liar Liar (1997)             |485  |\n",
      "|English Patient, The (1996)  |481  |\n",
      "|Scream (1996)                |478  |\n",
      "|Toy Story (1995)             |452  |\n",
      "|Air Force One (1997)         |431  |\n",
      "|Independence Day (ID4) (1996)|429  |\n",
      "+-----------------------------+-----+\n",
      "only showing top 10 rows\n",
      "\n"
     ]
    }
   ],
   "source": [
    "df.groupBy('title').count().orderBy('count', ascending=False).show(10, False)"
   ]
  },
  {
   "cell_type": "code",
   "execution_count": 14,
   "id": "technological-trust",
   "metadata": {},
   "outputs": [],
   "source": [
    "# 步骤4: 特征工程\n",
    "from pyspark.sql.functions import *\n",
    "from pyspark.ml.feature import StringIndexer, IndexToString\n",
    "stringIndexer = StringIndexer(inputCol='title', outputCol='title_new')\n",
    "model= stringIndexer.fit(df)\n",
    "indexed=model.transform(df)"
   ]
  },
  {
   "cell_type": "code",
   "execution_count": 15,
   "id": "prescribed-admission",
   "metadata": {},
   "outputs": [
    {
     "name": "stdout",
     "output_type": "stream",
     "text": [
      "+------+------------+------+---------+\n",
      "|userId|       title|rating|title_new|\n",
      "+------+------------+------+---------+\n",
      "|   196|Kolya (1996)|     3|    287.0|\n",
      "|    63|Kolya (1996)|     3|    287.0|\n",
      "|   226|Kolya (1996)|     5|    287.0|\n",
      "|   154|Kolya (1996)|     3|    287.0|\n",
      "|   306|Kolya (1996)|     5|    287.0|\n",
      "|   296|Kolya (1996)|     4|    287.0|\n",
      "|    34|Kolya (1996)|     5|    287.0|\n",
      "|   271|Kolya (1996)|     4|    287.0|\n",
      "|   201|Kolya (1996)|     4|    287.0|\n",
      "|   209|Kolya (1996)|     4|    287.0|\n",
      "+------+------------+------+---------+\n",
      "only showing top 10 rows\n",
      "\n"
     ]
    }
   ],
   "source": [
    "indexed.show(10)"
   ]
  },
  {
   "cell_type": "code",
   "execution_count": 17,
   "id": "agreed-double",
   "metadata": {},
   "outputs": [
    {
     "name": "stdout",
     "output_type": "stream",
     "text": [
      "+---------+-----+\n",
      "|title_new|count|\n",
      "+---------+-----+\n",
      "|0.0      |583  |\n",
      "|1.0      |509  |\n",
      "|2.0      |508  |\n",
      "|3.0      |507  |\n",
      "|4.0      |485  |\n",
      "|5.0      |481  |\n",
      "|6.0      |478  |\n",
      "|7.0      |452  |\n",
      "|8.0      |431  |\n",
      "|9.0      |429  |\n",
      "+---------+-----+\n",
      "only showing top 10 rows\n",
      "\n"
     ]
    }
   ],
   "source": [
    "indexed.groupBy('title_new').count().orderBy('count', ascending=False).show(10, False)"
   ]
  },
  {
   "cell_type": "code",
   "execution_count": 18,
   "id": "passing-patrick",
   "metadata": {},
   "outputs": [
    {
     "data": {
      "text/plain": [
       "75059"
      ]
     },
     "execution_count": 18,
     "metadata": {},
     "output_type": "execute_result"
    }
   ],
   "source": [
    "# 步骤5:划分数据集\n",
    "train, test = indexed.randomSplit([0.75, 0.25])\n",
    "train.count()"
   ]
  },
  {
   "cell_type": "code",
   "execution_count": 19,
   "id": "coordinate-aspect",
   "metadata": {},
   "outputs": [
    {
     "data": {
      "text/plain": [
       "24941"
      ]
     },
     "execution_count": 19,
     "metadata": {},
     "output_type": "execute_result"
    }
   ],
   "source": [
    "test.count()"
   ]
  },
  {
   "cell_type": "code",
   "execution_count": 20,
   "id": "coral-jersey",
   "metadata": {},
   "outputs": [],
   "source": [
    "# 步骤6 构建和训练推荐系统模型\n",
    "# ALS：交替最小二乘法，它只是是一种优化算法的名字，被用在求解spark中所提供的推荐系统模型的最优解。\n",
    "# 超参数：nonnegative = True 不会在推荐系统中创建负数评分\n",
    "#        coldStartStrategy= 'drop' 可以防止生成任何Nan评分预测\n",
    "# ALS算法的缺点：\n",
    "# 1.它是一个离线算法。\n",
    "# 2.无法准确评估新加入的用户或商品。这个问题也被称为Cold Start问题。\n",
    "from pyspark.ml.recommendation import ALS\n",
    "rec=ALS(maxIter=10, regParam=0.01, userCol='userId', \n",
    "        itemCol='title_new',ratingCol='rating', \n",
    "        nonnegative=True, coldStartStrategy='drop')"
   ]
  },
  {
   "cell_type": "code",
   "execution_count": 21,
   "id": "dedicated-resource",
   "metadata": {},
   "outputs": [],
   "source": [
    "rec_model=rec.fit(train)"
   ]
  },
  {
   "cell_type": "code",
   "execution_count": 22,
   "id": "powerful-milton",
   "metadata": {},
   "outputs": [
    {
     "name": "stdout",
     "output_type": "stream",
     "text": [
      "root\n",
      " |-- userId: integer (nullable = true)\n",
      " |-- title: string (nullable = true)\n",
      " |-- rating: integer (nullable = true)\n",
      " |-- title_new: double (nullable = false)\n",
      " |-- prediction: float (nullable = false)\n",
      "\n"
     ]
    }
   ],
   "source": [
    "# 步骤7: 基于测试数据进行预测和评估\n",
    "predicted_ratings = rec_model.transform(test)\n",
    "predicted_ratings.printSchema()"
   ]
  },
  {
   "cell_type": "code",
   "execution_count": 24,
   "id": "rational-chair",
   "metadata": {},
   "outputs": [],
   "source": [
    "from pyspark.ml.evaluation import RegressionEvaluator\n",
    "evaluator = RegressionEvaluator(metricName='rmse', \n",
    "                               predictionCol='prediction',\n",
    "                               labelCol='rating')\n",
    "rmse=evaluator.evaluate(predicted_ratings)"
   ]
  },
  {
   "cell_type": "code",
   "execution_count": 25,
   "id": "proper-rescue",
   "metadata": {},
   "outputs": [
    {
     "name": "stdout",
     "output_type": "stream",
     "text": [
      "1.0138568587831984\n"
     ]
    }
   ],
   "source": [
    "print(rmse)"
   ]
  },
  {
   "cell_type": "code",
   "execution_count": 26,
   "id": "saved-rebound",
   "metadata": {},
   "outputs": [
    {
     "data": {
      "text/plain": [
       "1664"
      ]
     },
     "execution_count": 26,
     "metadata": {},
     "output_type": "execute_result"
    }
   ],
   "source": [
    "# 步骤8: 推荐活动用户可能会喜欢的排名靠前的电影\n",
    "unique_movies = indexed.select('title_new').distinct()\n",
    "unique_movies.count()"
   ]
  },
  {
   "cell_type": "code",
   "execution_count": 27,
   "id": "presidential-champagne",
   "metadata": {},
   "outputs": [],
   "source": [
    "# 使用别名\n",
    "a = unique_movies.alias('a')"
   ]
  },
  {
   "cell_type": "code",
   "execution_count": 28,
   "id": "crude-looking",
   "metadata": {},
   "outputs": [
    {
     "data": {
      "text/plain": [
       "287"
      ]
     },
     "execution_count": 28,
     "metadata": {},
     "output_type": "execute_result"
    }
   ],
   "source": [
    "user_id=85\n",
    "watched_movies=indexed.filter(indexed['userId'] == user_id).select('title_new').distinct()\n",
    "watched_movies.count()"
   ]
  },
  {
   "cell_type": "code",
   "execution_count": 29,
   "id": "fatty-spider",
   "metadata": {},
   "outputs": [],
   "source": [
    "b=watched_movies.alias('b')"
   ]
  },
  {
   "cell_type": "code",
   "execution_count": 30,
   "id": "potential-inspiration",
   "metadata": {},
   "outputs": [],
   "source": [
    "total_movies=a.join(b, a.title_new == b.title_new, how='left')"
   ]
  },
  {
   "cell_type": "code",
   "execution_count": 31,
   "id": "equipped-exhaust",
   "metadata": {},
   "outputs": [
    {
     "name": "stdout",
     "output_type": "stream",
     "text": [
      "+---------+---------+\n",
      "|title_new|title_new|\n",
      "+---------+---------+\n",
      "|558.0    |null     |\n",
      "|305.0    |305.0    |\n",
      "|299.0    |null     |\n",
      "|596.0    |null     |\n",
      "|769.0    |null     |\n",
      "|934.0    |null     |\n",
      "|496.0    |496.0    |\n",
      "|1051.0   |null     |\n",
      "|692.0    |null     |\n",
      "|810.0    |null     |\n",
      "+---------+---------+\n",
      "only showing top 10 rows\n",
      "\n"
     ]
    }
   ],
   "source": [
    "total_movies.show(10, False)"
   ]
  },
  {
   "cell_type": "code",
   "execution_count": 32,
   "id": "ethical-license",
   "metadata": {},
   "outputs": [],
   "source": [
    "remaining_movies = total_movies.where(col(\"b.title_new\").isNull()).select(a.title_new).distinct()"
   ]
  },
  {
   "cell_type": "code",
   "execution_count": 33,
   "id": "nasty-squad",
   "metadata": {},
   "outputs": [
    {
     "data": {
      "text/plain": [
       "1377"
      ]
     },
     "execution_count": 33,
     "metadata": {},
     "output_type": "execute_result"
    }
   ],
   "source": [
    "remaining_movies.count()"
   ]
  },
  {
   "cell_type": "code",
   "execution_count": 34,
   "id": "disciplinary-found",
   "metadata": {},
   "outputs": [],
   "source": [
    "remaining_movies = remaining_movies.withColumn(\"userId\", lit(int(user_id)))"
   ]
  },
  {
   "cell_type": "code",
   "execution_count": 35,
   "id": "searching-crawford",
   "metadata": {},
   "outputs": [
    {
     "name": "stdout",
     "output_type": "stream",
     "text": [
      "+---------+------+\n",
      "|title_new|userId|\n",
      "+---------+------+\n",
      "|558.0    |85    |\n",
      "|299.0    |85    |\n",
      "|596.0    |85    |\n",
      "|769.0    |85    |\n",
      "|934.0    |85    |\n",
      "|1051.0   |85    |\n",
      "|692.0    |85    |\n",
      "|810.0    |85    |\n",
      "|720.0    |85    |\n",
      "|782.0    |85    |\n",
      "+---------+------+\n",
      "only showing top 10 rows\n",
      "\n"
     ]
    }
   ],
   "source": [
    "remaining_movies.show(10, False)"
   ]
  },
  {
   "cell_type": "code",
   "execution_count": 36,
   "id": "configured-advocacy",
   "metadata": {},
   "outputs": [],
   "source": [
    "recommendations = rec_model.transform(remaining_movies).orderBy('prediction', ascending=False)"
   ]
  },
  {
   "cell_type": "code",
   "execution_count": 37,
   "id": "statutory-cooler",
   "metadata": {},
   "outputs": [
    {
     "name": "stdout",
     "output_type": "stream",
     "text": [
      "+---------+------+----------+\n",
      "|title_new|userId|prediction|\n",
      "+---------+------+----------+\n",
      "|1358.0   |85    |5.725641  |\n",
      "|981.0    |85    |5.162581  |\n",
      "|1030.0   |85    |5.1539965 |\n",
      "|1271.0   |85    |4.997465  |\n",
      "|1433.0   |85    |4.8748465 |\n",
      "+---------+------+----------+\n",
      "only showing top 5 rows\n",
      "\n"
     ]
    }
   ],
   "source": [
    "recommendations.show(5, False)"
   ]
  },
  {
   "cell_type": "code",
   "execution_count": 38,
   "id": "coral-remedy",
   "metadata": {},
   "outputs": [],
   "source": [
    "movie_title= IndexToString(inputCol='title_new',\n",
    "                          outputCol='title',\n",
    "                          labels=model.labels)"
   ]
  },
  {
   "cell_type": "code",
   "execution_count": 39,
   "id": "ultimate-nothing",
   "metadata": {},
   "outputs": [
    {
     "name": "stdout",
     "output_type": "stream",
     "text": [
      "+---------+------+----------+-----------------------------------------+\n",
      "|title_new|userId|prediction|title                                    |\n",
      "+---------+------+----------+-----------------------------------------+\n",
      "|1358.0   |85    |5.725641  |Angel Baby (1995)                        |\n",
      "|981.0    |85    |5.162581  |Big Blue, The (Grand bleu, Le) (1988)    |\n",
      "|1030.0   |85    |5.1539965 |Braindead (1992)                         |\n",
      "|1271.0   |85    |4.997465  |Whole Wide World, The (1996)             |\n",
      "|1433.0   |85    |4.8748465 |Boys, Les (1997)                         |\n",
      "|1007.0   |85    |4.729849  |Hard Eight (1996)                        |\n",
      "|1054.0   |85    |4.670152  |Red Firecracker, Green Firecracker (1994)|\n",
      "|1090.0   |85    |4.6287975 |Four Days in September (1997)            |\n",
      "|837.0    |85    |4.594181  |Love! Valour! Compassion! (1997)         |\n",
      "|1084.0   |85    |4.451149  |Audrey Rose (1977)                       |\n",
      "+---------+------+----------+-----------------------------------------+\n",
      "only showing top 10 rows\n",
      "\n"
     ]
    }
   ],
   "source": [
    "final_recommendations = movie_title.transform(recommendations)\n",
    "final_recommendations.show(10, False)"
   ]
  },
  {
   "cell_type": "code",
   "execution_count": null,
   "id": "tired-democracy",
   "metadata": {},
   "outputs": [],
   "source": []
  }
 ],
 "metadata": {
  "kernelspec": {
   "display_name": "Python 3",
   "language": "python",
   "name": "python3"
  },
  "language_info": {
   "codemirror_mode": {
    "name": "ipython",
    "version": 3
   },
   "file_extension": ".py",
   "mimetype": "text/x-python",
   "name": "python",
   "nbconvert_exporter": "python",
   "pygments_lexer": "ipython3",
   "version": "3.6.12"
  }
 },
 "nbformat": 4,
 "nbformat_minor": 5
}
